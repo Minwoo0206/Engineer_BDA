{
 "cells": [
  {
   "cell_type": "markdown",
   "metadata": {},
   "source": [
    "#### 표본의 평균 검정"
   ]
  },
  {
   "cell_type": "code",
   "execution_count": 40,
   "metadata": {},
   "outputs": [],
   "source": [
    "import numpy as np\n",
    "import scipy.stats as ss"
   ]
  },
  {
   "cell_type": "code",
   "execution_count": 41,
   "metadata": {},
   "outputs": [
    {
     "name": "stdout",
     "output_type": "stream",
     "text": [
      "표본평균: 26.8\n",
      "검정통계량: -1.8973665961010264\n",
      "임계값: 1.959963984540054\n",
      "p-값: 0.05777957112359733\n"
     ]
    }
   ],
   "source": [
    "data = np.array([20, 25, 28, 30, 26, 27, 29, 32, 31, 20])\n",
    "\n",
    "population_mean = 28\n",
    "population_variance = 4\n",
    "\n",
    "alpha = 0.05\n",
    "\n",
    "alternative = \"two.sided\"\n",
    "\n",
    "sample_mean = np.mean(data)\n",
    "\n",
    "n = len(data)\n",
    "\n",
    "test_statistic = (sample_mean - population_mean) / (np.sqrt(population_variance) / np.sqrt(n))\n",
    "\n",
    "critical_value = ss.norm.ppf(1 - alpha / 2)\n",
    "\n",
    "p_value = 2 * (1 - ss.norm.cdf(abs(test_statistic)))\n",
    "\n",
    "print(f\"표본평균: {sample_mean}\")\n",
    "print(f\"검정통계량: {test_statistic}\")\n",
    "print(f\"임계값: {critical_value}\")\n",
    "print(f\"p-값: {p_value}\")\n",
    "\n",
    "if abs(test_statistic) > critical_value:\n",
    "    print(\"귀무가설을 기각합니다. 표본평균이 모집단 평균과 다릅니다.\")\n"
   ]
  },
  {
   "cell_type": "code",
   "execution_count": 42,
   "metadata": {},
   "outputs": [],
   "source": [
    "import numpy as np\n",
    "import scipy.stats as ss"
   ]
  },
  {
   "cell_type": "code",
   "execution_count": 43,
   "metadata": {},
   "outputs": [
    {
     "name": "stdout",
     "output_type": "stream",
     "text": [
      "t-통계랑: -2.5849213105659867\n",
      "p-값: 0.0294578538228953\n",
      "95% 신뢰구간: (20.124429666330197, 27.475570333669804)\n",
      "귀무가설을 기각합니다. 표본평균이 모집단 평균과 다릅니다.\n"
     ]
    }
   ],
   "source": [
    "data = np.array([18, 20, 20, 20, 26, 27, 29, 32, 28, 18])\n",
    "\n",
    "alpha = 0.05\n",
    "\n",
    "alternative = 'two-sided'\n",
    "\n",
    "t_statistic, p_value = ss.ttest_1samp(data, popmean=28, alternative=alternative)\n",
    "\n",
    "confidence_interval = ss.t.interval(1-alpha, len(data)-1, loc=np.mean(data), scale=ss.sem(data))\n",
    "\n",
    "print(f\"t-통계랑: {t_statistic}\")\n",
    "print(f\"p-값: {p_value}\")\n",
    "print(f\"95% 신뢰구간: {confidence_interval}\")\n",
    "\n",
    "if p_value < alpha:\n",
    "    print(\"귀무가설을 기각합니다. 표본평균이 모집단 평균과 다릅니다.\")\n",
    "else:\n",
    "    print(\"귀무가설을 기각하지 못합니다. 표본평균이 모집단 평균과 차이가 없을 가능성이 있습니다.\")"
   ]
  },
  {
   "cell_type": "markdown",
   "metadata": {},
   "source": [
    "#### 두 독립표본의 평균차이 검정"
   ]
  },
  {
   "cell_type": "code",
   "execution_count": 44,
   "metadata": {},
   "outputs": [],
   "source": [
    "import scipy.stats as ss\n",
    "import numpy as np"
   ]
  },
  {
   "cell_type": "code",
   "execution_count": 45,
   "metadata": {},
   "outputs": [
    {
     "name": "stdout",
     "output_type": "stream",
     "text": [
      "t-검정통계랑: 1.5778641172210597\n",
      "Sample 1 평균: 27.6\n",
      "Sample 2 평균: 23.8\n",
      "p-값 (two-tailed): 0.15324889402868613\n",
      "두 그룹의 평균은 유의미하게 다르지 않습니다.\n"
     ]
    }
   ],
   "source": [
    "sample1 = [23, 25, 28, 30, 32]\n",
    "sample2 = [19, 21, 24, 26, 29]\n",
    "\n",
    "t_statistic, p_value = ss.ttest_ind(sample1, sample2)\n",
    "\n",
    "mean_sample1 = np.mean(sample1)\n",
    "mean_sample2 = np.mean(sample2)\n",
    "\n",
    "alpha = 0.05\n",
    "print(f\"t-검정통계랑: {t_statistic}\")\n",
    "print(f\"Sample 1 평균: {mean_sample1}\")\n",
    "print(f\"Sample 2 평균: {mean_sample2}\")\n",
    "print(f\"p-값 (two-tailed): {p_value}\")\n",
    "\n",
    "if p_value < alpha:\n",
    "    print(\"두 그룹의 평균은 유의미하게 다릅니다.\")\n",
    "else:\n",
    "    print(\"두 그룹의 평균은 유의미하게 다르지 않습니다.\")"
   ]
  },
  {
   "cell_type": "code",
   "execution_count": 46,
   "metadata": {},
   "outputs": [],
   "source": [
    "import scipy.stats as ss\n",
    "import numpy as np"
   ]
  },
  {
   "cell_type": "code",
   "execution_count": 47,
   "metadata": {},
   "outputs": [
    {
     "name": "stdout",
     "output_type": "stream",
     "text": [
      "Mann-Whitney U 통계량: 19.0\n",
      "Sample 1 평균: 27.6\n",
      "Sample 2 평균: 23.8\n",
      "p-값 (two-tailed): 0.2222222222222222\n",
      "두 그룹의 평균은 유의미하게 다르지 않습니다.\n"
     ]
    }
   ],
   "source": [
    "sample1 = [23, 25, 28, 30, 32]\n",
    "sample2 = [19, 21, 24, 26, 29]\n",
    "\n",
    "u_statistic, p_value = ss.mannwhitneyu(sample1, sample2)\n",
    "\n",
    "mean_sample1 = np.mean(sample1)\n",
    "mean_sample2 = np.mean(sample2)\n",
    "\n",
    "alpha = 0.05\n",
    "print(f\"Mann-Whitney U 통계량: {u_statistic}\")\n",
    "print(f\"Sample 1 평균: {mean_sample1}\")\n",
    "print(f\"Sample 2 평균: {mean_sample2}\")\n",
    "print(f\"p-값 (two-tailed): {p_value}\")\n",
    "\n",
    "if p_value < alpha:\n",
    "    print(\"두 그룹의 평균은 유의미하게 다릅니다.\")\n",
    "else:\n",
    "    print(\"두 그룹의 평균은 유의미하게 다르지 않습니다.\")"
   ]
  },
  {
   "cell_type": "code",
   "execution_count": 48,
   "metadata": {},
   "outputs": [],
   "source": [
    "import scipy.stats as ss"
   ]
  },
  {
   "cell_type": "code",
   "execution_count": 49,
   "metadata": {},
   "outputs": [
    {
     "name": "stdout",
     "output_type": "stream",
     "text": [
      "Shapiro-Wilk 테스트 통계량 0.9553363445648533\n",
      "p-값 0.7484769348718879\n",
      "귀무가설을 기각하지 못하며, 데이터는 정규분포를 따를 가능성이 높습니다.\n"
     ]
    }
   ],
   "source": [
    "data = [2.4, 2.7, 3.1, 3.2, 3.5, 3.7, 3.9, 4.1, 4.2]\n",
    "\n",
    "statistic, p_value = ss.shapiro(data)\n",
    "\n",
    "alpha = 0.05\n",
    "print(\"Shapiro-Wilk 테스트 통계량\", statistic)\n",
    "print(\"p-값\", p_value)\n",
    "if p_value > alpha:\n",
    "    print(\"귀무가설을 기각하지 못하며, 데이터는 정규분포를 따를 가능성이 높습니다.\")\n",
    "else:\n",
    "    print(\"귀무가설을 기각하며, 데이터는 정규분포를 따르지 않을 가능성이 있습니다.\")"
   ]
  },
  {
   "cell_type": "markdown",
   "metadata": {},
   "source": [
    "#### 대응표본의 평균 차이 검정 (t-검정)"
   ]
  },
  {
   "cell_type": "code",
   "execution_count": 50,
   "metadata": {},
   "outputs": [],
   "source": [
    "import scipy.stats as ss"
   ]
  },
  {
   "cell_type": "code",
   "execution_count": 51,
   "metadata": {},
   "outputs": [
    {
     "name": "stdout",
     "output_type": "stream",
     "text": [
      "대응표본 t-검정 결과:\n",
      "t-통계량 -8.25674954467424\n",
      "p-값 0.0011738040715128372\n"
     ]
    }
   ],
   "source": [
    "data_before = [72, 75, 68, 71, 73]\n",
    "data_after = [76, 79, 74, 78, 80]\n",
    "\n",
    "t_statistic, p_value = ss.ttest_rel(data_before, data_after)\n",
    "\n",
    "print(\"대응표본 t-검정 결과:\")\n",
    "print(\"t-통계량\", t_statistic)\n",
    "print(\"p-값\", p_value)"
   ]
  },
  {
   "cell_type": "markdown",
   "metadata": {},
   "source": [
    "#### 단일표본 모분산 검정"
   ]
  },
  {
   "cell_type": "code",
   "execution_count": 52,
   "metadata": {},
   "outputs": [],
   "source": [
    "import numpy as np\n",
    "import scipy.stats as ss"
   ]
  },
  {
   "cell_type": "code",
   "execution_count": 54,
   "metadata": {},
   "outputs": [
    {
     "name": "stdout",
     "output_type": "stream",
     "text": [
      "Chi_Square Statistic: 0.8575000000000008\n",
      "p-value 0.9968119115718612\n",
      "귀무가설을 기각하지 못합니다. 모분산은 1.0과 같을 가능성이 있습니다.\n"
     ]
    }
   ],
   "source": [
    "data = np.array([14.2, 15.1, 14.8, 15.4, 14.9, 15.2, 14.6, 15.0])\n",
    "\n",
    "population_variance = 1.0\n",
    "\n",
    "sample_variance = np.var(data)\n",
    "n = len(data)\n",
    "chi2_stat = (n-1) * sample_variance / population_variance\n",
    "\n",
    "degrees_of_freedom = n-1\n",
    "\n",
    "p_value = 1 - ss.chi2.cdf(chi2_stat, degrees_of_freedom)\n",
    "\n",
    "print(\"Chi_Square Statistic:\", chi2_stat)\n",
    "print(\"p-value\", p_value)\n",
    "\n",
    "alpha=0.5\n",
    "if p_value < alpha:\n",
    "    print(\"귀무가설을 기각합니다. 모분산은 1.0과 다릅니다.\")\n",
    "else:\n",
    "    print(\"귀무가설을 기각하지 못합니다. 모분산은 1.0과 같을 가능성이 있습니다.\")"
   ]
  },
  {
   "cell_type": "markdown",
   "metadata": {},
   "source": [
    "#### 두 모분산 비에 대한 가설 검정"
   ]
  },
  {
   "cell_type": "code",
   "execution_count": 56,
   "metadata": {},
   "outputs": [],
   "source": [
    "import numpy as np\n",
    "import scipy.stats as ss"
   ]
  },
  {
   "cell_type": "code",
   "execution_count": 76,
   "metadata": {},
   "outputs": [
    {
     "name": "stdout",
     "output_type": "stream",
     "text": [
      "표본 1의 분산: 2.3944745857762086\n",
      "표본 2의 분산: 8.84627156168798\n",
      "F-통계량: 3.694452058183075\n",
      "p-value: 0.0004 < 0.05, 귀무가설을 기각합니다. 두 표본의 모분산은 다릅니다.\n"
     ]
    }
   ],
   "source": [
    "sample1 = np.random.normal(loc=5, scale=2, size=30)\n",
    "sample2 = np.random.normal(loc=5, scale=3, size=30)\n",
    "\n",
    "variance_sample1 = np.var(sample1, ddof=1)\n",
    "variance_sample2 = np.var(sample2, ddof=1)\n",
    "\n",
    "if variance_sample1 > variance_sample2:\n",
    "    f_statistic = variance_sample1 / variance_sample2\n",
    "else:\n",
    "    f_statistic = variance_sample2 / variance_sample1\n",
    "\n",
    "df1 = len(sample1) - 1\n",
    "df2 = len(sample2) - 1\n",
    "p_value = 1 - ss.f.cdf(f_statistic, df1, df2)\n",
    "\n",
    "print(\"표본 1의 분산:\", variance_sample1)\n",
    "print(\"표본 2의 분산:\", variance_sample2)\n",
    "print(\"F-통계량:\", f_statistic)\n",
    "\n",
    "alpha = 0.05\n",
    "if p_value < alpha:\n",
    "    print(f\"p-value: {p_value:.4f} < {alpha}, 귀무가설을 기각합니다. 두 표본의 모분산은 다릅니다.\")\n",
    "else:\n",
    "    print(f\"p-value: {p_value:.4f} >= {alpha}, 귀무가설을 기각하지 않습니다. 두 표본의 모분산은 같을 수 있습니다.\")"
   ]
  },
  {
   "cell_type": "markdown",
   "metadata": {},
   "source": [
    "#### 독립성 검정"
   ]
  },
  {
   "cell_type": "code",
   "execution_count": 78,
   "metadata": {},
   "outputs": [],
   "source": [
    "import numpy as np\n",
    "import scipy.stats as ss"
   ]
  },
  {
   "cell_type": "code",
   "execution_count": 81,
   "metadata": {},
   "outputs": [
    {
     "name": "stdout",
     "output_type": "stream",
     "text": [
      "Chi-square statistic: 134.7511341579557\n",
      "p-value: 5.117490956087995e-29\n",
      "Degrrees of freedom: 3\n",
      "Expected frequency table:\n",
      "[[ 99.16666667  74.375      120.41666667 131.04166667]\n",
      " [ 40.83333333  30.625       49.58333333  53.95833333]]\n"
     ]
    }
   ],
   "source": [
    "data_matrix = np.array([[50, 75, 125, 175], [90, 30, 45, 10]])\n",
    "\n",
    "chi2, p, df, expected = ss.chi2_contingency(data_matrix)\n",
    "\n",
    "print(\"Chi-square statistic:\", chi2)\n",
    "print(\"p-value:\", p)\n",
    "print(\"Degrrees of freedom:\", df)\n",
    "print(\"Expected frequency table:\")\n",
    "print(expected)"
   ]
  },
  {
   "cell_type": "code",
   "execution_count": 82,
   "metadata": {},
   "outputs": [],
   "source": [
    "import numpy as np\n",
    "import pandas as pd\n",
    "import scipy.stats as ss"
   ]
  },
  {
   "cell_type": "code",
   "execution_count": 85,
   "metadata": {},
   "outputs": [
    {
     "name": "stdout",
     "output_type": "stream",
     "text": [
      "Chi-square statistic: 260.71702016732104\n",
      "p-value: 1.197357062775565e-58\n",
      "Degrrees of freedom: 1\n",
      "Expected frequency table:\n",
      "[[193.47474747 120.52525253]\n",
      " [355.52525253 221.47474747]]\n"
     ]
    }
   ],
   "source": [
    "titanic_data = pd.read_csv(\"https://raw.githubusercontent.com/YoungjinBD/dataset/main/titanic.csv\")\n",
    "\n",
    "cross_table = pd.crosstab(titanic_data['Sex'], titanic_data['Survived'])\n",
    "\n",
    "chi2, p, df, expected = ss.chi2_contingency(cross_table)\n",
    "\n",
    "print(\"Chi-square statistic:\", chi2)\n",
    "print(\"p-value:\", p)\n",
    "print(\"Degrrees of freedom:\", df)\n",
    "print(\"Expected frequency table:\")\n",
    "print(expected)"
   ]
  },
  {
   "cell_type": "code",
   "execution_count": null,
   "metadata": {},
   "outputs": [],
   "source": []
  }
 ],
 "metadata": {
  "kernelspec": {
   "display_name": "base",
   "language": "python",
   "name": "python3"
  },
  "language_info": {
   "codemirror_mode": {
    "name": "ipython",
    "version": 3
   },
   "file_extension": ".py",
   "mimetype": "text/x-python",
   "name": "python",
   "nbconvert_exporter": "python",
   "pygments_lexer": "ipython3",
   "version": "3.12.2"
  }
 },
 "nbformat": 4,
 "nbformat_minor": 2
}
