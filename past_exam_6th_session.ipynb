{
 "cells": [
  {
   "cell_type": "code",
   "execution_count": 1,
   "metadata": {},
   "outputs": [],
   "source": [
    "import pandas as pd"
   ]
  },
  {
   "cell_type": "code",
   "execution_count": 2,
   "metadata": {},
   "outputs": [
    {
     "name": "stdout",
     "output_type": "stream",
     "text": [
      "83\n"
     ]
    }
   ],
   "source": [
    "# 1-1. 이동시간이 평균적으로 가장 오랠 걸린 구급대의 이동시간을 구하시오.\n",
    "# - 분 단위로 환산 및 반올림하여 정수로 출력\n",
    "\n",
    "df = pd.read_csv(\"https://raw.githubusercontent.com/YoungjinBD/dataset/main/data_6_1_1.csv\")\n",
    "\n",
    "df['출동시간'] = df['출동시간'].astype('datetime64[ns]')\n",
    "df['도착시간'] = df['도착시간'].astype('datetime64[ns]')\n",
    "df['이동시간'] = df['도착시간'] - df['출동시간']\n",
    "\n",
    "print(round(max(df.groupby('구급대')['이동시간'].mean()).seconds/60))"
   ]
  },
  {
   "cell_type": "code",
   "execution_count": 3,
   "metadata": {},
   "outputs": [],
   "source": [
    "# 1-2. 교수 1인당 맡고 있는 학생 수가 가장 많은 대학교를 찾고, 그 대학교의 전체 교수의 수를 구하시오. (정수로 출력)\n",
    "df = pd.read_csv(\"https://raw.githubusercontent.com/YoungjinBD/dataset/main/data_6_1_2.csv\")"
   ]
  },
  {
   "cell_type": "code",
   "execution_count": 4,
   "metadata": {},
   "outputs": [
    {
     "data": {
      "text/plain": [
       "대학교명          대학교46\n",
       "교수               22\n",
       "경영학과            163\n",
       "경제학과            189\n",
       "컴퓨터공학과          192\n",
       "산업공학과           121\n",
       "국문학과             99\n",
       "영문학과            183\n",
       "학생수             947\n",
       "교수당학생수    43.045455\n",
       "Name: 45, dtype: object"
      ]
     },
     "execution_count": 4,
     "metadata": {},
     "output_type": "execute_result"
    }
   ],
   "source": [
    "df['학생수'] = df['경영학과'] + df['경제학과'] + df['컴퓨터공학과'] + df['산업공학과'] + df['국문학과'] + df['영문학과']\n",
    "df['교수당학생수'] = df['학생수'] / df['교수']\n",
    "df.sort_values('교수당학생수', ascending=False).iloc[0]"
   ]
  },
  {
   "cell_type": "code",
   "execution_count": 5,
   "metadata": {},
   "outputs": [],
   "source": [
    "# 1-3. 연도별 총 범죄 건수의 월평균 값을 구하고, 그 중 가장 큰 값을 출력하시오. (반올림하여 정수로 출력)\n",
    "\n",
    "df = pd.read_csv(\"https://raw.githubusercontent.com/YoungjinBD/dataset/main/data_6_1_3.csv\")"
   ]
  },
  {
   "cell_type": "code",
   "execution_count": 6,
   "metadata": {},
   "outputs": [
    {
     "data": {
      "text/plain": [
       "연도\n",
       "2021년    528.333333\n",
       "2018년    527.333333\n",
       "2022년    524.416667\n",
       "2019년    520.500000\n",
       "2020년    514.916667\n",
       "Name: 총범죄건수, dtype: float64"
      ]
     },
     "execution_count": 6,
     "metadata": {},
     "output_type": "execute_result"
    }
   ],
   "source": [
    "df['총범죄건수'] = df['폭력범죄'] + df['지능범죄'] + df['교통범죄'] + df['절도범죄'] + df['경제범죄'] + df['정치범죄']\n",
    "df['연도'] = df['날짜'].apply(lambda x: x.split()[0])\n",
    "df.groupby('연도')['총범죄건수'].mean().sort_values(ascending=False)"
   ]
  },
  {
   "cell_type": "code",
   "execution_count": 7,
   "metadata": {},
   "outputs": [],
   "source": [
    "# 2. 학생구분 예측 모형을 만들어라.\n",
    "\n",
    "train = pd.read_csv(\"https://raw.githubusercontent.com/YoungjinBD/dataset/main/data_6_2_train.csv\")\n",
    "test = pd.read_csv(\"https://raw.githubusercontent.com/YoungjinBD/dataset/main/data_6_2_test.csv\")"
   ]
  },
  {
   "cell_type": "code",
   "execution_count": 8,
   "metadata": {},
   "outputs": [
    {
     "name": "stdout",
     "output_type": "stream",
     "text": [
      "<class 'pandas.core.frame.DataFrame'>\n",
      "RangeIndex: 530 entries, 0 to 529\n",
      "Data columns (total 9 columns):\n",
      " #   Column       Non-Null Count  Dtype  \n",
      "---  ------       --------------  -----  \n",
      " 0   일평균수면시간      530 non-null    float64\n",
      " 1   일평균학습시간      530 non-null    float64\n",
      " 2   일평균스마트폰사용시간  530 non-null    float64\n",
      " 3   키            530 non-null    object \n",
      " 4   몸무게          530 non-null    float64\n",
      " 5   체격           530 non-null    object \n",
      " 6   기초대사량        530 non-null    float64\n",
      " 7   거주지역         530 non-null    object \n",
      " 8   구분           530 non-null    object \n",
      "dtypes: float64(5), object(4)\n",
      "memory usage: 37.4+ KB\n"
     ]
    }
   ],
   "source": [
    "train.info()"
   ]
  },
  {
   "cell_type": "code",
   "execution_count": 9,
   "metadata": {},
   "outputs": [
    {
     "name": "stdout",
     "output_type": "stream",
     "text": [
      "['Tall' 'Short']\n",
      "['L' 'M' 'XS' 'S']\n",
      "['동구' '서구' '남구' '북구']\n",
      "['고등학생' '중학생' '초등학생' '대학생' '유치원생']\n"
     ]
    }
   ],
   "source": [
    "print(train['키'].unique())\n",
    "print(train['체격'].unique())\n",
    "print(train['거주지역'].unique())\n",
    "print(train['구분'].unique())"
   ]
  },
  {
   "cell_type": "code",
   "execution_count": 10,
   "metadata": {},
   "outputs": [
    {
     "name": "stderr",
     "output_type": "stream",
     "text": [
      "/var/folders/kv/3bqrx9gs35v3nfj5z19_3bw00000gn/T/ipykernel_40647/2091784337.py:5: FutureWarning: Downcasting behavior in `replace` is deprecated and will be removed in a future version. To retain the old behavior, explicitly call `result.infer_objects(copy=False)`. To opt-in to the future behavior, set `pd.set_option('future.no_silent_downcasting', True)`\n",
      "  y_train = train_dropped['구분'].replace({'대학생': 0, '고등학생': 1, '중학생': 2, '초등학생': 3, '유치원생': 4})\n"
     ]
    }
   ],
   "source": [
    "train_dummies = pd.get_dummies(train[['키', '체격', '거주지역']])\n",
    "train_combined = pd.concat([train, train_dummies], axis=1)\n",
    "train_dropped = train_combined.drop(columns=['키', '체격', '거주지역'])\n",
    "\n",
    "y_train = train_dropped['구분'].replace({'대학생': 0, '고등학생': 1, '중학생': 2, '초등학생': 3, '유치원생': 4})\n",
    "X_train = train_dropped.drop(columns=['구분'])"
   ]
  },
  {
   "cell_type": "code",
   "execution_count": 11,
   "metadata": {},
   "outputs": [
    {
     "data": {
      "text/plain": [
       "((530, 15), (530,))"
      ]
     },
     "execution_count": 11,
     "metadata": {},
     "output_type": "execute_result"
    }
   ],
   "source": [
    "X_train.shape, y_train.shape"
   ]
  },
  {
   "cell_type": "code",
   "execution_count": 12,
   "metadata": {},
   "outputs": [
    {
     "name": "stdout",
     "output_type": "stream",
     "text": [
      "0.9558229813664596\n"
     ]
    }
   ],
   "source": [
    "from sklearn.model_selection import train_test_split\n",
    "from sklearn.ensemble import RandomForestClassifier\n",
    "from sklearn.metrics import f1_score\n",
    "\n",
    "X_train_sub, X_validation, y_train_sub, y_validation = train_test_split(X_train, y_train, test_size=0.2)\n",
    "\n",
    "rfc = RandomForestClassifier()\n",
    "rfc.fit(X_train_sub, y_train_sub)\n",
    "\n",
    "pred = rfc.predict(X_validation)\n",
    "score = f1_score(y_validation, pred, average='macro')\n",
    "print(score)"
   ]
  },
  {
   "cell_type": "code",
   "execution_count": 13,
   "metadata": {},
   "outputs": [
    {
     "name": "stdout",
     "output_type": "stream",
     "text": [
      "<class 'pandas.core.frame.DataFrame'>\n",
      "RangeIndex: 230 entries, 0 to 229\n",
      "Data columns (total 8 columns):\n",
      " #   Column       Non-Null Count  Dtype  \n",
      "---  ------       --------------  -----  \n",
      " 0   일평균수면시간      230 non-null    float64\n",
      " 1   일평균학습시간      230 non-null    float64\n",
      " 2   일평균스마트폰사용시간  230 non-null    float64\n",
      " 3   키            230 non-null    object \n",
      " 4   몸무게          230 non-null    float64\n",
      " 5   체격           230 non-null    object \n",
      " 6   기초대사량        230 non-null    float64\n",
      " 7   거주지역         230 non-null    object \n",
      "dtypes: float64(5), object(3)\n",
      "memory usage: 14.5+ KB\n"
     ]
    }
   ],
   "source": [
    "test.info()"
   ]
  },
  {
   "cell_type": "code",
   "execution_count": 14,
   "metadata": {},
   "outputs": [
    {
     "name": "stdout",
     "output_type": "stream",
     "text": [
      "['Tall' 'Short']\n",
      "['L' 'XS' 'S' 'M']\n",
      "['북구' '남구' '동구' '서구']\n"
     ]
    }
   ],
   "source": [
    "print(test['키'].unique())\n",
    "print(test['체격'].unique())\n",
    "print(test['거주지역'].unique())"
   ]
  },
  {
   "cell_type": "code",
   "execution_count": 15,
   "metadata": {},
   "outputs": [],
   "source": [
    "test_dummies = pd.get_dummies(test[['키', '체격', '거주지역']])\n",
    "test_combined = pd.concat([test, test_dummies], axis=1)\n",
    "X_test = test_combined.drop(columns=['키', '체격', '거주지역'])"
   ]
  },
  {
   "cell_type": "code",
   "execution_count": 16,
   "metadata": {},
   "outputs": [
    {
     "data": {
      "text/plain": [
       "(230, 15)"
      ]
     },
     "execution_count": 16,
     "metadata": {},
     "output_type": "execute_result"
    }
   ],
   "source": [
    "X_test.shape"
   ]
  },
  {
   "cell_type": "code",
   "execution_count": 17,
   "metadata": {},
   "outputs": [],
   "source": [
    "pred = rfc.predict(X_test)\n",
    "\n",
    "converted_pred = []\n",
    "convert = {\n",
    "    0: '대학생',\n",
    "    1: '고등학생',\n",
    "    2: '중학생',\n",
    "    3: '초등학생',\n",
    "    4: '유치원생'\n",
    "}\n",
    "\n",
    "for p in pred:\n",
    "    converted_pred.append(convert[p])"
   ]
  },
  {
   "cell_type": "code",
   "execution_count": 18,
   "metadata": {},
   "outputs": [],
   "source": [
    "submit = pd.DataFrame({'구분예측': converted_pred})"
   ]
  },
  {
   "cell_type": "code",
   "execution_count": 19,
   "metadata": {},
   "outputs": [],
   "source": [
    "# submit.to_csv(\"submit\", index=False)ß"
   ]
  },
  {
   "cell_type": "code",
   "execution_count": 20,
   "metadata": {},
   "outputs": [],
   "source": [
    "# 3-1-1. 항암제 투여 환자들 중 '무증상' 비율을 0과 1 사이로 구하시오.\n",
    "# 3-1-2. 감기약의 부작용 비율과 항암제의 부작용 관찰 값이 통계적으로 유의미하게 차이가 있는지 카이제곱 검정을 이용하여 검정 통계량을 구하시오.\n",
    "# 감기의 경우 아픔 5%, 조금아픔 10%, 속쓰림 15%, 무증상 70%\n",
    "# 3-1-3. 위의 p-value를 구하시오.\n",
    "\n",
    "df = pd.read_csv(\"https://raw.githubusercontent.com/YoungjinBD/dataset/main/data_6_3_1.csv\")"
   ]
  },
  {
   "cell_type": "code",
   "execution_count": 21,
   "metadata": {},
   "outputs": [
    {
     "data": {
      "text/plain": [
       "항암제 \n",
       "무증상     11\n",
       "조금아픔     4\n",
       "아픔       3\n",
       "속쓰림      2\n",
       "Name: count, dtype: int64"
      ]
     },
     "execution_count": 21,
     "metadata": {},
     "output_type": "execute_result"
    }
   ],
   "source": [
    "df.value_counts()"
   ]
  },
  {
   "cell_type": "code",
   "execution_count": 22,
   "metadata": {},
   "outputs": [
    {
     "name": "stdout",
     "output_type": "stream",
     "text": [
      "전체: 20\n",
      "유증상: 9\n",
      "무증상: 11\n",
      "무증상 비율: 0.55\n"
     ]
    }
   ],
   "source": [
    "print('전체:', len(df))\n",
    "print('유증상:',len(df[df['항암제']!='무증상']))\n",
    "print('무증상:', len(df[df['항암제']=='무증상']))\n",
    "print('무증상 비율:', len(df[df['항암제']=='무증상'])/len(df))"
   ]
  },
  {
   "cell_type": "code",
   "execution_count": 23,
   "metadata": {},
   "outputs": [
    {
     "data": {
      "text/plain": [
       "Power_divergenceResult(statistic=6.976190476190476, pvalue=0.07266054733847577)"
      ]
     },
     "execution_count": 23,
     "metadata": {},
     "output_type": "execute_result"
    }
   ],
   "source": [
    "# 감기의 경우 아픔 5%, 조금아픔 10%, 속쓰림 15%, 무증상 70%\n",
    "# obs: 아픔 3, 조금아픔 4, 속쓰림 2, 무증상 11\n",
    "# exp: 아픔 1, 조금아픔 2, 속쓰림 3, 무증상 14\n",
    "\n",
    "import scipy.stats as ss\n",
    "ss.chisquare([3, 4, 2, 11], [1, 2, 3, 14])\n"
   ]
  },
  {
   "cell_type": "code",
   "execution_count": 24,
   "metadata": {},
   "outputs": [],
   "source": [
    "# 3-2-1. 선형회귀 모델을 만들어 독립변수 Ozone의 회귀계수를 구하시오.\n",
    "# - 독립변수: Solar, Wind, Ozone\n",
    "# - 종속변수: Temp\n",
    "# 3-2-2. Solar와 Ozone은 고정, Wind가 증가함에 따라 Temp가 감소하는지 검증하기 위한 다중선형회귀분석을 수행하여 Wind의 회귀계수에 대한 p-value를 구하시오.\n",
    "# 3-2-3. Solar가 150, Wind가 7.5, Ozone이 45일 경우, 예측 값과 그에 대한 95% 신뢰구간을 구하시오.\n",
    "\n",
    "df = pd.read_csv(\"https://raw.githubusercontent.com/YoungjinBD/dataset/main/data_6_3_2.csv\")"
   ]
  },
  {
   "cell_type": "code",
   "execution_count": 25,
   "metadata": {},
   "outputs": [
    {
     "name": "stdout",
     "output_type": "stream",
     "text": [
      "<class 'pandas.core.frame.DataFrame'>\n",
      "RangeIndex: 153 entries, 0 to 152\n",
      "Data columns (total 6 columns):\n",
      " #   Column  Non-Null Count  Dtype  \n",
      "---  ------  --------------  -----  \n",
      " 0   Ozone   116 non-null    float64\n",
      " 1   Solar   146 non-null    float64\n",
      " 2   Wind    153 non-null    float64\n",
      " 3   Temp    153 non-null    int64  \n",
      " 4   Month   153 non-null    int64  \n",
      " 5   Day     153 non-null    int64  \n",
      "dtypes: float64(3), int64(3)\n",
      "memory usage: 7.3 KB\n"
     ]
    }
   ],
   "source": [
    "df.info()"
   ]
  },
  {
   "cell_type": "code",
   "execution_count": 26,
   "metadata": {},
   "outputs": [],
   "source": [
    "df.dropna(inplace=True)"
   ]
  },
  {
   "cell_type": "code",
   "execution_count": 27,
   "metadata": {},
   "outputs": [
    {
     "data": {
      "text/html": [
       "<table class=\"simpletable\">\n",
       "<caption>OLS Regression Results</caption>\n",
       "<tr>\n",
       "  <th>Dep. Variable:</th>          <td>Temp</td>       <th>  R-squared:         </th> <td>   0.500</td>\n",
       "</tr>\n",
       "<tr>\n",
       "  <th>Model:</th>                   <td>OLS</td>       <th>  Adj. R-squared:    </th> <td>   0.486</td>\n",
       "</tr>\n",
       "<tr>\n",
       "  <th>Method:</th>             <td>Least Squares</td>  <th>  F-statistic:       </th> <td>   35.65</td>\n",
       "</tr>\n",
       "<tr>\n",
       "  <th>Date:</th>             <td>Thu, 28 Nov 2024</td> <th>  Prob (F-statistic):</th> <td>4.73e-16</td>\n",
       "</tr>\n",
       "<tr>\n",
       "  <th>Time:</th>                 <td>10:29:36</td>     <th>  Log-Likelihood:    </th> <td> -368.79</td>\n",
       "</tr>\n",
       "<tr>\n",
       "  <th>No. Observations:</th>      <td>   111</td>      <th>  AIC:               </th> <td>   745.6</td>\n",
       "</tr>\n",
       "<tr>\n",
       "  <th>Df Residuals:</th>          <td>   107</td>      <th>  BIC:               </th> <td>   756.4</td>\n",
       "</tr>\n",
       "<tr>\n",
       "  <th>Df Model:</th>              <td>     3</td>      <th>                     </th>     <td> </td>   \n",
       "</tr>\n",
       "<tr>\n",
       "  <th>Covariance Type:</th>      <td>nonrobust</td>    <th>                     </th>     <td> </td>   \n",
       "</tr>\n",
       "</table>\n",
       "<table class=\"simpletable\">\n",
       "<tr>\n",
       "    <td></td>       <th>coef</th>     <th>std err</th>      <th>t</th>      <th>P>|t|</th>  <th>[0.025</th>    <th>0.975]</th>  \n",
       "</tr>\n",
       "<tr>\n",
       "  <th>const</th> <td>   72.4186</td> <td>    3.216</td> <td>   22.522</td> <td> 0.000</td> <td>   66.044</td> <td>   78.793</td>\n",
       "</tr>\n",
       "<tr>\n",
       "  <th>Solar</th> <td>    0.0073</td> <td>    0.008</td> <td>    0.948</td> <td> 0.345</td> <td>   -0.008</td> <td>    0.022</td>\n",
       "</tr>\n",
       "<tr>\n",
       "  <th>Wind</th>  <td>   -0.3229</td> <td>    0.233</td> <td>   -1.384</td> <td> 0.169</td> <td>   -0.785</td> <td>    0.139</td>\n",
       "</tr>\n",
       "<tr>\n",
       "  <th>Ozone</th> <td>    0.1720</td> <td>    0.026</td> <td>    6.516</td> <td> 0.000</td> <td>    0.120</td> <td>    0.224</td>\n",
       "</tr>\n",
       "</table>\n",
       "<table class=\"simpletable\">\n",
       "<tr>\n",
       "  <th>Omnibus:</th>       <td> 6.409</td> <th>  Durbin-Watson:     </th> <td>   1.170</td>\n",
       "</tr>\n",
       "<tr>\n",
       "  <th>Prob(Omnibus):</th> <td> 0.041</td> <th>  Jarque-Bera (JB):  </th> <td>   6.615</td>\n",
       "</tr>\n",
       "<tr>\n",
       "  <th>Skew:</th>          <td>-0.591</td> <th>  Prob(JB):          </th> <td>  0.0366</td>\n",
       "</tr>\n",
       "<tr>\n",
       "  <th>Kurtosis:</th>      <td> 2.817</td> <th>  Cond. No.          </th> <td>1.05e+03</td>\n",
       "</tr>\n",
       "</table><br/><br/>Notes:<br/>[1] Standard Errors assume that the covariance matrix of the errors is correctly specified.<br/>[2] The condition number is large, 1.05e+03. This might indicate that there are<br/>strong multicollinearity or other numerical problems."
      ],
      "text/latex": [
       "\\begin{center}\n",
       "\\begin{tabular}{lclc}\n",
       "\\toprule\n",
       "\\textbf{Dep. Variable:}    &       Temp       & \\textbf{  R-squared:         } &     0.500   \\\\\n",
       "\\textbf{Model:}            &       OLS        & \\textbf{  Adj. R-squared:    } &     0.486   \\\\\n",
       "\\textbf{Method:}           &  Least Squares   & \\textbf{  F-statistic:       } &     35.65   \\\\\n",
       "\\textbf{Date:}             & Thu, 28 Nov 2024 & \\textbf{  Prob (F-statistic):} &  4.73e-16   \\\\\n",
       "\\textbf{Time:}             &     10:29:36     & \\textbf{  Log-Likelihood:    } &   -368.79   \\\\\n",
       "\\textbf{No. Observations:} &         111      & \\textbf{  AIC:               } &     745.6   \\\\\n",
       "\\textbf{Df Residuals:}     &         107      & \\textbf{  BIC:               } &     756.4   \\\\\n",
       "\\textbf{Df Model:}         &           3      & \\textbf{                     } &             \\\\\n",
       "\\textbf{Covariance Type:}  &    nonrobust     & \\textbf{                     } &             \\\\\n",
       "\\bottomrule\n",
       "\\end{tabular}\n",
       "\\begin{tabular}{lcccccc}\n",
       "               & \\textbf{coef} & \\textbf{std err} & \\textbf{t} & \\textbf{P$> |$t$|$} & \\textbf{[0.025} & \\textbf{0.975]}  \\\\\n",
       "\\midrule\n",
       "\\textbf{const} &      72.4186  &        3.216     &    22.522  &         0.000        &       66.044    &       78.793     \\\\\n",
       "\\textbf{Solar} &       0.0073  &        0.008     &     0.948  &         0.345        &       -0.008    &        0.022     \\\\\n",
       "\\textbf{Wind}  &      -0.3229  &        0.233     &    -1.384  &         0.169        &       -0.785    &        0.139     \\\\\n",
       "\\textbf{Ozone} &       0.1720  &        0.026     &     6.516  &         0.000        &        0.120    &        0.224     \\\\\n",
       "\\bottomrule\n",
       "\\end{tabular}\n",
       "\\begin{tabular}{lclc}\n",
       "\\textbf{Omnibus:}       &  6.409 & \\textbf{  Durbin-Watson:     } &    1.170  \\\\\n",
       "\\textbf{Prob(Omnibus):} &  0.041 & \\textbf{  Jarque-Bera (JB):  } &    6.615  \\\\\n",
       "\\textbf{Skew:}          & -0.591 & \\textbf{  Prob(JB):          } &   0.0366  \\\\\n",
       "\\textbf{Kurtosis:}      &  2.817 & \\textbf{  Cond. No.          } & 1.05e+03  \\\\\n",
       "\\bottomrule\n",
       "\\end{tabular}\n",
       "%\\caption{OLS Regression Results}\n",
       "\\end{center}\n",
       "\n",
       "Notes: \\newline\n",
       " [1] Standard Errors assume that the covariance matrix of the errors is correctly specified. \\newline\n",
       " [2] The condition number is large, 1.05e+03. This might indicate that there are \\newline\n",
       " strong multicollinearity or other numerical problems."
      ],
      "text/plain": [
       "<class 'statsmodels.iolib.summary.Summary'>\n",
       "\"\"\"\n",
       "                            OLS Regression Results                            \n",
       "==============================================================================\n",
       "Dep. Variable:                   Temp   R-squared:                       0.500\n",
       "Model:                            OLS   Adj. R-squared:                  0.486\n",
       "Method:                 Least Squares   F-statistic:                     35.65\n",
       "Date:                Thu, 28 Nov 2024   Prob (F-statistic):           4.73e-16\n",
       "Time:                        10:29:36   Log-Likelihood:                -368.79\n",
       "No. Observations:                 111   AIC:                             745.6\n",
       "Df Residuals:                     107   BIC:                             756.4\n",
       "Df Model:                           3                                         \n",
       "Covariance Type:            nonrobust                                         \n",
       "==============================================================================\n",
       "                 coef    std err          t      P>|t|      [0.025      0.975]\n",
       "------------------------------------------------------------------------------\n",
       "const         72.4186      3.216     22.522      0.000      66.044      78.793\n",
       "Solar          0.0073      0.008      0.948      0.345      -0.008       0.022\n",
       "Wind          -0.3229      0.233     -1.384      0.169      -0.785       0.139\n",
       "Ozone          0.1720      0.026      6.516      0.000       0.120       0.224\n",
       "==============================================================================\n",
       "Omnibus:                        6.409   Durbin-Watson:                   1.170\n",
       "Prob(Omnibus):                  0.041   Jarque-Bera (JB):                6.615\n",
       "Skew:                          -0.591   Prob(JB):                       0.0366\n",
       "Kurtosis:                       2.817   Cond. No.                     1.05e+03\n",
       "==============================================================================\n",
       "\n",
       "Notes:\n",
       "[1] Standard Errors assume that the covariance matrix of the errors is correctly specified.\n",
       "[2] The condition number is large, 1.05e+03. This might indicate that there are\n",
       "strong multicollinearity or other numerical problems.\n",
       "\"\"\""
      ]
     },
     "execution_count": 27,
     "metadata": {},
     "output_type": "execute_result"
    }
   ],
   "source": [
    "import statsmodels.api as sm\n",
    "\n",
    "X = df[['Solar', 'Wind', 'Ozone']]\n",
    "X = sm.add_constant(X)\n",
    "y = df[['Temp']]\n",
    "\n",
    "model = sm.OLS(y, X)\n",
    "result = model.fit()\n",
    "result.summary()"
   ]
  },
  {
   "cell_type": "code",
   "execution_count": 28,
   "metadata": {},
   "outputs": [
    {
     "data": {
      "text/plain": [
       "0.1719660419798164"
      ]
     },
     "execution_count": 28,
     "metadata": {},
     "output_type": "execute_result"
    }
   ],
   "source": [
    "result.params['Ozone']"
   ]
  },
  {
   "cell_type": "code",
   "execution_count": 29,
   "metadata": {},
   "outputs": [
    {
     "data": {
      "text/plain": [
       "0.16909868598497496"
      ]
     },
     "execution_count": 29,
     "metadata": {},
     "output_type": "execute_result"
    }
   ],
   "source": [
    "result.pvalues['Wind']"
   ]
  },
  {
   "cell_type": "code",
   "execution_count": 30,
   "metadata": {},
   "outputs": [
    {
     "data": {
      "text/html": [
       "<div>\n",
       "<style scoped>\n",
       "    .dataframe tbody tr th:only-of-type {\n",
       "        vertical-align: middle;\n",
       "    }\n",
       "\n",
       "    .dataframe tbody tr th {\n",
       "        vertical-align: top;\n",
       "    }\n",
       "\n",
       "    .dataframe thead th {\n",
       "        text-align: right;\n",
       "    }\n",
       "</style>\n",
       "<table border=\"1\" class=\"dataframe\">\n",
       "  <thead>\n",
       "    <tr style=\"text-align: right;\">\n",
       "      <th></th>\n",
       "      <th>mean</th>\n",
       "      <th>mean_se</th>\n",
       "      <th>mean_ci_lower</th>\n",
       "      <th>mean_ci_upper</th>\n",
       "      <th>obs_ci_lower</th>\n",
       "      <th>obs_ci_upper</th>\n",
       "    </tr>\n",
       "  </thead>\n",
       "  <tbody>\n",
       "    <tr>\n",
       "      <th>0</th>\n",
       "      <td>78.826312</td>\n",
       "      <td>0.864464</td>\n",
       "      <td>77.112614</td>\n",
       "      <td>80.540011</td>\n",
       "      <td>65.171661</td>\n",
       "      <td>92.480964</td>\n",
       "    </tr>\n",
       "  </tbody>\n",
       "</table>\n",
       "</div>"
      ],
      "text/plain": [
       "        mean   mean_se  mean_ci_lower  mean_ci_upper  obs_ci_lower  \\\n",
       "0  78.826312  0.864464      77.112614      80.540011     65.171661   \n",
       "\n",
       "   obs_ci_upper  \n",
       "0     92.480964  "
      ]
     },
     "execution_count": 30,
     "metadata": {},
     "output_type": "execute_result"
    }
   ],
   "source": [
    "prediction = result.get_prediction([1, 150, 7.5, 45])\n",
    "prediction.summary_frame()"
   ]
  },
  {
   "cell_type": "code",
   "execution_count": null,
   "metadata": {},
   "outputs": [],
   "source": []
  }
 ],
 "metadata": {
  "kernelspec": {
   "display_name": "Python 3",
   "language": "python",
   "name": "python3"
  },
  "language_info": {
   "codemirror_mode": {
    "name": "ipython",
    "version": 3
   },
   "file_extension": ".py",
   "mimetype": "text/x-python",
   "name": "python",
   "nbconvert_exporter": "python",
   "pygments_lexer": "ipython3",
   "version": "3.9.6"
  }
 },
 "nbformat": 4,
 "nbformat_minor": 2
}
